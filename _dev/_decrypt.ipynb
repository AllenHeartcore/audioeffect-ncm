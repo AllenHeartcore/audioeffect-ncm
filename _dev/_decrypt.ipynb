{
 "cells": [
  {
   "cell_type": "code",
   "execution_count": 1,
   "metadata": {},
   "outputs": [],
   "source": [
    "import numpy as np\n",
    "\n",
    "toint = lambda x: int.from_bytes(x, byteorder='big')"
   ]
  },
  {
   "cell_type": "code",
   "execution_count": 3,
   "metadata": {},
   "outputs": [],
   "source": [
    "fin = open('data/raw/360°环绕.ncae', 'rb')\n",
    "magic = fin.read(4)\n",
    "assert magic == b'NCAE'\n",
    "ldata = toint(fin.read(4))\n",
    "fin.read(6)     # unused\n",
    "short = toint(fin.read(2))\n",
    "lkey = toint(fin.read(1)) - 1\n",
    "assert lkey % 4 == 0\n",
    "key0 = bytearray(fin.read(lkey + 1))\n",
    "key = np.array(key0[:4] + key0[5:]) ^ key0[4]\n",
    "data = bytearray(fin.read(ldata))\n",
    "fin.close()"
   ]
  },
  {
   "cell_type": "code",
   "execution_count": 4,
   "metadata": {},
   "outputs": [
    {
     "data": {
      "text/plain": [
       "(array([ 86, 150,  34,  95, 163,  37,  94, 102, 165,  65,   0,  60],\n",
       "       dtype=uint8),\n",
       " bytearray(b\"\\x82R\\x97\\xd1\\xec7\\x8e\\xb1\\xf7\\'}\\xb6\\x8f\\xf5\\x9c\\x8d\\xd2\\x1d1\\x02V\\xf5\\xa1\\x0e\\xd8\\xcf\\xbe\\xb6\\xb8\\x16\\xf9\\x84\\x95\\xbd\\xe9\\x89\\x0b\\x14\\xd5\\x89\\xa1fJqm\\xc8G\\xe2\\x9d\\x8c\\x88Q\\x90\\xa1\\x9d\\xbaKN\\t1k\"))"
      ]
     },
     "execution_count": 4,
     "metadata": {},
     "output_type": "execute_result"
    }
   ],
   "source": [
    "key, data"
   ]
  },
  {
   "cell_type": "code",
   "execution_count": 5,
   "metadata": {},
   "outputs": [
    {
     "name": "stderr",
     "output_type": "stream",
     "text": [
      "C:\\Users\\Allen Heartcore\\AppData\\Local\\Temp\\ipykernel_37200\\2803794411.py:4: RuntimeWarning: overflow encountered in ubyte_scalars\n",
      "  byte = arr[i] + key[i % lkey] + byte & 0xFF\n"
     ]
    },
    {
     "data": {
      "text/plain": [
       "array([ 86, 226,  17, 115, 120,  53, 166, 130,  79,  31,  22,  14, 188,\n",
       "       112, 143, 253,  99,  44, 231, 114, 121, 186,  60, 100, 140,  41,\n",
       "        20,  24, 243, 220,  81, 137, 227,  15,  42, 126, 248,  62, 251,\n",
       "       129,  76, 106,  78,  69,  50, 144, 155, 139,  96,  94, 103,  90,\n",
       "       149, 145, 187,  46, 150, 119, 177, 168,  73, 148,  10,   0,  40,\n",
       "       178,  82,  70, 116,  37,  75,   2,  11,  91, 170, 117, 239, 222,\n",
       "        98, 141,  43, 252, 160, 214,  88, 224,  65, 195, 153, 208, 158,\n",
       "       152,   6,   3, 173, 122,   5, 202,  83,  36, 236, 127, 161,  19,\n",
       "       105,  18,  28,  61,  30, 132, 247, 197,  49,  38, 245, 124, 147,\n",
       "       123,   7, 142, 218,  54, 221, 241, 217, 255, 169,   9, 242, 133,\n",
       "       213,   4,  67,  74,  63,  57, 190, 225, 201, 216, 172, 233, 131,\n",
       "       118,  77, 206,  21,  52, 238, 165,  33, 250, 203, 240, 110,  66,\n",
       "       109, 249, 136, 212, 113,  87, 162, 209,  97, 215,   1, 210, 104,\n",
       "       128,  92, 107, 219,  47, 101, 229, 157, 193, 163, 189, 200,  71,\n",
       "       234, 196,  34,  80,  58, 135, 228, 134, 174, 254, 156,  93, 151,\n",
       "        89, 175,  12, 246, 191, 199, 102,  45, 185, 230, 146,   8, 176,\n",
       "        29,  23, 198, 235,  84, 182, 111, 180,  95, 211,  26, 204, 223,\n",
       "        48, 167, 164,  39,  72, 237,  55, 138,  32, 184, 181,  59, 194,\n",
       "       205,  27, 108,  25, 171,  68, 244, 183,  51, 154, 159, 192,  35,\n",
       "        16, 207, 232,  64, 125,  85, 179,  56,  13], dtype=uint8)"
      ]
     },
     "execution_count": 5,
     "metadata": {},
     "output_type": "execute_result"
    }
   ],
   "source": [
    "byte = 0\n",
    "arr = np.arange(0x100, dtype=np.uint8)\n",
    "for i in range(0x100):\n",
    "    byte = arr[i] + key[i % lkey] + byte & 0xFF\n",
    "    arr[i], arr[byte] = arr[byte], arr[i]\n",
    "arr"
   ]
  },
  {
   "cell_type": "code",
   "execution_count": 9,
   "metadata": {},
   "outputs": [
    {
     "name": "stderr",
     "output_type": "stream",
     "text": [
      "C:\\Users\\Allen Heartcore\\AppData\\Local\\Temp\\ipykernel_37200\\45323989.py:3: RuntimeWarning: overflow encountered in ubyte_scalars\n",
      "  data[j] ^= arr[arr[(byte + j + 1) & 0xFF] + byte & 0xFF]\n"
     ]
    }
   ],
   "source": [
    "for j in range(len(data)):\n",
    "    byte = arr[(j + 1) & 0xFF]\n",
    "    data[j] ^= arr[arr[(byte + j + 1) & 0xFF] + byte & 0xFF]"
   ]
  },
  {
   "cell_type": "code",
   "execution_count": 10,
   "metadata": {},
   "outputs": [
    {
     "name": "stdout",
     "output_type": "stream",
     "text": [
      "AB 56 4A 2D 54 B2 AA 56 CA CF 53 B2 4A 4B 9C 8D D2 1D 31 02 56 F5 A1 0E D8 CF BE B6 B8 16 F9 84 95 BD E9 89 0B 14 D5 89 A1 66 4A 71 6D C8 47 E2 9D 8C 88 51 90 A1 9D BA 4B 4E 09 31 6B "
     ]
    },
    {
     "data": {
      "text/plain": [
       "bytearray(b'\\xabVJ-T\\xb2\\xaaV\\xca\\xcfS\\xb2JK\\x9c\\x8d\\xd2\\x1d1\\x02V\\xf5\\xa1\\x0e\\xd8\\xcf\\xbe\\xb6\\xb8\\x16\\xf9\\x84\\x95\\xbd\\xe9\\x89\\x0b\\x14\\xd5\\x89\\xa1fJqm\\xc8G\\xe2\\x9d\\x8c\\x88Q\\x90\\xa1\\x9d\\xbaKN\\t1k')"
      ]
     },
     "execution_count": 10,
     "metadata": {},
     "output_type": "execute_result"
    }
   ],
   "source": [
    "for byte in ['%02X' % x for x in data]:\n",
    "    print(byte, end=' ')\n",
    "data"
   ]
  },
  {
   "cell_type": "code",
   "execution_count": 1,
   "metadata": {},
   "outputs": [
    {
     "name": "stdout",
     "output_type": "stream",
     "text": [
      "558B410A80201405EFF2D72FC9CA28AF\tacg.bin\n",
      "AB564A2D54B2AA56CACF53B22A292A4D\tbass.bin\n",
      "3D567D4CD655147E052D8950324B910A\tbass_plus.bin\n",
      "AB564A2A51B2AA56CACF53B24A4BCC29\tbwmrszn.bin\n",
      "6D91DB6E84201086DF65AED1A0AEC6F8\tchurch.bin\n",
      "AB564A2D54B2AA56CACF53B22A292A4D\tclassical.bin\n",
      "AB564A2D54B2AA56CACF53B24A4BCC29\tconcert.bin\n",
      "558B310E80201004FF72F57A110C10F9\telectronic.bin\n",
      "6D51DB8E832010FD9779C646511BC3AF\telectronic_plus.bin\n",
      "558B410A80201444EFF2D79368258457\tfolk.bin\n",
      "558B310A80301004FF72F57A24D128E6\thiphop.bin\n",
      "558B310A80301004FF72F51AD47885F9\tlive.bin\n",
      "6D51DB72832010FD977D4607B136D65F\tlivehouse.bin\n",
      "0D9767404E5F1CC7DBA9B48786B68AD2\tlive_plus.bin\n",
      "6D91CB6E83301045FF65D606190869C2\tlive_surr.bin\n",
      "7D92DD6E83300C85DFC5D7A64AD23255\tnineone.bin\n",
      "6559097495C515FE073089881A7AD4C6\tpanorama.bin\n",
      "0D94693C555D03C5A592A1411A50924A\tradio.bin\n",
      "5DCCDD0AC2300C05E077C9751A9A8DFA\trock.bin\n",
      "AB564A2D54B2AA56CACF53B24A4BCC29\tstereo.bin\n",
      "AB564A2D54B2AA56CACF53B24A4BCC29\tstereo_crystal.bin\n",
      "15986938964F1B8745243B59B2640D51\tstereo_studio.bin\n",
      "AB564A2D54B2AA56CACF53B24A4BCC29\tstereo_surr.bin\n",
      "AB564A2D54B2AA56CACF53B24A4BCC29\tsurr.bin\n",
      "AB564A2D54B2AA56CACF53B24A4BCC29\tsurr_rotate.bin\n",
      "1D5707585447D79E72B72F5D112CA8A8\ttape.bin\n",
      "0D577B588DDB13DE2ADD5352E99724E4\tvacuumtube.bin\n",
      "AB564A2D54B2AA56CACF53B22A292A4D\tvocal.bin\n",
      "1D93096C55451486BF29C59652964A29\tvocal_plus.bin\n",
      "8592C16EC2300C86DFC5E704A5A19D50\txiaowang.bin\n"
     ]
    }
   ],
   "source": [
    "import os\n",
    "for file in os.listdir('data/processed'):\n",
    "    with open('data/processed/' + file, 'rb') as fin:\n",
    "        content = fin.read(16)\n",
    "        print('%s\\t%s' % (''.join(['%02X' % x for x in content]), file))"
   ]
  },
  {
   "cell_type": "markdown",
   "metadata": {},
   "source": [
    "### README Param Table"
   ]
  },
  {
   "cell_type": "code",
   "execution_count": 1,
   "metadata": {},
   "outputs": [],
   "source": [
    "import os\n",
    "import json\n",
    "import pandas as pd"
   ]
  },
  {
   "cell_type": "code",
   "execution_count": 15,
   "metadata": {},
   "outputs": [],
   "source": [
    "translate = {\n",
    "    '迷幻电音': 'genre_electronic',\n",
    "    '动感电音': 'genre_electronic+',\n",
    "    '摇滚经典': 'genre_rock',\n",
    "    '嘻哈音效': 'genre_hiphop',\n",
    "    '纯净ACG': 'genre_acg',\n",
    "    '民谣音效': 'genre_folk',\n",
    "    '婉约古风': 'genre_classical',\n",
    "    '极重低音': 'eq_bass',\n",
    "    '超重低音': 'eq_bass+',\n",
    "    '清澈人声': 'eq_vocal',\n",
    "    '高解析人声': 'eq_vocal+',\n",
    "    '震撼全景': 'spatial_panorama',\n",
    "    '3D环绕': 'spatial_surr',\n",
    "    '独享立体声': 'spatial_stereo',\n",
    "    '环绕立体声': 'spatial_stereo_surr',\n",
    "    '水晶立体声': 'spatial_stereo_crystal',\n",
    "    '录音棚立体声': 'spatial_stereo_studio',\n",
    "    '音乐厅': 'scene_concert',\n",
    "    '教堂混响': 'scene_church',\n",
    "    '演唱会现场': 'scene_live',\n",
    "    'HiFi现场': 'scene_live+',\n",
    "    '狂嗨LIVE': 'scene_live_surr',\n",
    "    'LiveHouse现场': 'scene_livehouse',\n",
    "    '复古收音机': 'sfx_radio',\n",
    "    '怀旧卡带机': 'sfx_tape',\n",
    "    'HiFi电子管': 'sfx_vacuumtube',\n",
    "    'NINEONE#专属音效': 'custom_nineone',\n",
    "    '毛不易《小王》专属音效': 'custom_xiaowang',\n",
    "    '《不完美人生指南》专属音效': 'custom_bwmrszn',\n",
    "}"
   ]
  },
  {
   "cell_type": "code",
   "execution_count": 11,
   "metadata": {},
   "outputs": [
    {
     "data": {
      "text/plain": [
       "Index(['eq', 'bt', 'rvb', 'se'], dtype='object')"
      ]
     },
     "execution_count": 11,
     "metadata": {},
     "output_type": "execute_result"
    }
   ],
   "source": [
    "df.columns"
   ]
  },
  {
   "cell_type": "code",
   "execution_count": 16,
   "metadata": {},
   "outputs": [
    {
     "data": {
      "text/html": [
       "<div>\n",
       "<style scoped>\n",
       "    .dataframe tbody tr th:only-of-type {\n",
       "        vertical-align: middle;\n",
       "    }\n",
       "\n",
       "    .dataframe tbody tr th {\n",
       "        vertical-align: top;\n",
       "    }\n",
       "\n",
       "    .dataframe thead th {\n",
       "        text-align: right;\n",
       "    }\n",
       "</style>\n",
       "<table border=\"1\" class=\"dataframe\">\n",
       "  <thead>\n",
       "    <tr style=\"text-align: right;\">\n",
       "      <th></th>\n",
       "      <th>eq</th>\n",
       "      <th>bt</th>\n",
       "      <th>rvb</th>\n",
       "      <th>se</th>\n",
       "    </tr>\n",
       "  </thead>\n",
       "  <tbody>\n",
       "    <tr>\n",
       "      <th>custom_bwmrszn 《不完美人生指南》专属音效</th>\n",
       "      <td>{'eqs': [-1, -1, -2, -3, -2, -2, -1, -1, -1, -...</td>\n",
       "      <td>{'on': False}</td>\n",
       "      <td>{'on': False}</td>\n",
       "      <td>{'ambience': 2, 'on': True, 'presence': 0.5, '...</td>\n",
       "    </tr>\n",
       "    <tr>\n",
       "      <th>custom_nineone NINEONE#专属音效</th>\n",
       "      <td>{'eqs': [0, 0, -1, -1, -2, 1, 2, 2, 0, 0], 'on...</td>\n",
       "      <td>{'on': False}</td>\n",
       "      <td>{'er': {'on': True, 'pattern': 4, 'rsize': 60,...</td>\n",
       "      <td>{'on': False}</td>\n",
       "    </tr>\n",
       "    <tr>\n",
       "      <th>custom_xiaowang 毛不易《小王》专属音效</th>\n",
       "      <td>{'eqs': [-5, -4, -2, -0.5, 1.5, 2.5, 0, -3, -5...</td>\n",
       "      <td>{'on': False}</td>\n",
       "      <td>{'er': {'on': True, 'pattern': 4, 'rsize': 60,...</td>\n",
       "      <td>{'on': False}</td>\n",
       "    </tr>\n",
       "    <tr>\n",
       "      <th>eq_bass 极重低音</th>\n",
       "      <td>{'on': True, 'eqs': [6, 4.5, 3.2, 2.09, 0, 0, ...</td>\n",
       "      <td>{'on': True, 'bass': 3, 'treble': 0}</td>\n",
       "      <td>{'on': False}</td>\n",
       "      <td>{'on': False}</td>\n",
       "    </tr>\n",
       "    <tr>\n",
       "      <th>eq_vocal 清澈人声</th>\n",
       "      <td>{'on': True, 'eqs': [-1.5, -1, 0, 1.79, 4, 3.7...</td>\n",
       "      <td>{'on': False}</td>\n",
       "      <td>{'on': False}</td>\n",
       "      <td>{'on': False}</td>\n",
       "    </tr>\n",
       "    <tr>\n",
       "      <th>genre_acg 纯净ACG</th>\n",
       "      <td>{'on': True, 'eqs': [4, 6.19, 1.5, -0.5, -0.8,...</td>\n",
       "      <td>{'on': True, 'bass': 2, 'treble': 3}</td>\n",
       "      <td>{'on': False}</td>\n",
       "      <td>{'on': False}</td>\n",
       "    </tr>\n",
       "    <tr>\n",
       "      <th>genre_classical 婉约古风</th>\n",
       "      <td>{'on': True, 'eqs': [4, 2, 0, -0.5, -1, 3.5, 4...</td>\n",
       "      <td>{'on': True, 'bass': 2, 'treble': 2}</td>\n",
       "      <td>{'on': False}</td>\n",
       "      <td>{'on': False}</td>\n",
       "    </tr>\n",
       "    <tr>\n",
       "      <th>genre_electronic 迷幻电音</th>\n",
       "      <td>{'on': True, 'eqs': [5, 6.09, 2.2, 0, -1.6, 1....</td>\n",
       "      <td>{'on': True, 'bass': 3, 'treble': 2}</td>\n",
       "      <td>{'on': False}</td>\n",
       "      <td>{'on': False}</td>\n",
       "    </tr>\n",
       "    <tr>\n",
       "      <th>genre_electronic+ 动感电音</th>\n",
       "      <td>{'on': True, 'eqs': [4, 4, 3, 1, -1, -2, -1, 2...</td>\n",
       "      <td>{'on': False}</td>\n",
       "      <td>{'on': True, 'er': {'on': True, 'pattern': 4, ...</td>\n",
       "      <td>{'on': False}</td>\n",
       "    </tr>\n",
       "    <tr>\n",
       "      <th>genre_folk 民谣音效</th>\n",
       "      <td>{'on': True, 'eqs': [0, 3, 0, -0.8, 1.5, 4.8, ...</td>\n",
       "      <td>{'on': True, 'bass': 0, 'treble': 1}</td>\n",
       "      <td>{'on': False}</td>\n",
       "      <td>{'on': False}</td>\n",
       "    </tr>\n",
       "    <tr>\n",
       "      <th>genre_hiphop 嘻哈音效</th>\n",
       "      <td>{'on': True, 'eqs': [5.6, 5.09, 2, 0.5, -2, 1....</td>\n",
       "      <td>{'on': True, 'bass': 2, 'treble': 2}</td>\n",
       "      <td>{'on': False}</td>\n",
       "      <td>{'on': False}</td>\n",
       "    </tr>\n",
       "    <tr>\n",
       "      <th>genre_rock 摇滚经典</th>\n",
       "      <td>{'eqs': [-5.7, 0, 1.5, -3.81, -0.2, -1.1, 0.6,...</td>\n",
       "      <td>{'on': False}</td>\n",
       "      <td>{'on': False}</td>\n",
       "      <td>{'ambience': 3, 'on': True, 'presence': 2, 'ss...</td>\n",
       "    </tr>\n",
       "    <tr>\n",
       "      <th>scene_church 教堂混响</th>\n",
       "      <td>{'on': False}</td>\n",
       "      <td>{'on': False}</td>\n",
       "      <td>{'on': True, 'er': {'on': True, 'pattern': 0, ...</td>\n",
       "      <td>{'on': False}</td>\n",
       "    </tr>\n",
       "    <tr>\n",
       "      <th>scene_concert 音乐厅</th>\n",
       "      <td>{'on': False}</td>\n",
       "      <td>{'on': False}</td>\n",
       "      <td>{'on': False}</td>\n",
       "      <td>{'on': True, 'presence': 0, 'stereoizer': 0, '...</td>\n",
       "    </tr>\n",
       "    <tr>\n",
       "      <th>scene_live 演唱会现场</th>\n",
       "      <td>{'on': True, 'eqs': [5.59, 5, 3, 0, -1, 0, 3.0...</td>\n",
       "      <td>{'on': True, 'bass': 3, 'treble': 2}</td>\n",
       "      <td>{'on': False}</td>\n",
       "      <td>{'on': False}</td>\n",
       "    </tr>\n",
       "    <tr>\n",
       "      <th>scene_live_surr 狂嗨LIVE</th>\n",
       "      <td>{'on': True, 'eqs': [-6, -6.5, -3.7, -9.93, -1...</td>\n",
       "      <td>{'on': True, 'bass': 12, 'treble': -12}</td>\n",
       "      <td>{'on': True, 'er': {'on': True, 'pattern': 24,...</td>\n",
       "      <td>{'on': True, 'presence': 10, 'stereoizer': 10,...</td>\n",
       "    </tr>\n",
       "    <tr>\n",
       "      <th>scene_livehouse LiveHouse现场</th>\n",
       "      <td>{'on': False}</td>\n",
       "      <td>{'on': False}</td>\n",
       "      <td>{'on': True, 'er': {'on': True, 'pattern': 4, ...</td>\n",
       "      <td>{'on': False}</td>\n",
       "    </tr>\n",
       "    <tr>\n",
       "      <th>spatial_stereo 独享立体声</th>\n",
       "      <td>{'on': False}</td>\n",
       "      <td>{'on': False}</td>\n",
       "      <td>{'on': False}</td>\n",
       "      <td>{'on': True, 'presence': 0, 'stereoizer': 0, '...</td>\n",
       "    </tr>\n",
       "    <tr>\n",
       "      <th>spatial_stereo_crystal 水晶立体声</th>\n",
       "      <td>{'on': False}</td>\n",
       "      <td>{'on': False}</td>\n",
       "      <td>{'on': False}</td>\n",
       "      <td>{'on': True, 'presence': 0, 'stereoizer': 0, '...</td>\n",
       "    </tr>\n",
       "    <tr>\n",
       "      <th>spatial_stereo_surr 环绕立体声</th>\n",
       "      <td>{'on': False}</td>\n",
       "      <td>{'on': False}</td>\n",
       "      <td>{'on': False}</td>\n",
       "      <td>{'on': True, 'presence': 0, 'stereoizer': 0, '...</td>\n",
       "    </tr>\n",
       "    <tr>\n",
       "      <th>spatial_surr 3D环绕</th>\n",
       "      <td>{'on': False}</td>\n",
       "      <td>{'on': False}</td>\n",
       "      <td>{'on': False}</td>\n",
       "      <td>{'on': True, 'presence': 6, 'stereoizer': 4, '...</td>\n",
       "    </tr>\n",
       "  </tbody>\n",
       "</table>\n",
       "</div>"
      ],
      "text/plain": [
       "                                                                             eq  \\\n",
       "custom_bwmrszn 《不完美人生指南》专属音效  {'eqs': [-1, -1, -2, -3, -2, -2, -1, -1, -1, -...   \n",
       "custom_nineone NINEONE#专属音效   {'eqs': [0, 0, -1, -1, -2, 1, 2, 2, 0, 0], 'on...   \n",
       "custom_xiaowang 毛不易《小王》专属音效   {'eqs': [-5, -4, -2, -0.5, 1.5, 2.5, 0, -3, -5...   \n",
       "eq_bass 极重低音                  {'on': True, 'eqs': [6, 4.5, 3.2, 2.09, 0, 0, ...   \n",
       "eq_vocal 清澈人声                 {'on': True, 'eqs': [-1.5, -1, 0, 1.79, 4, 3.7...   \n",
       "genre_acg 纯净ACG               {'on': True, 'eqs': [4, 6.19, 1.5, -0.5, -0.8,...   \n",
       "genre_classical 婉约古风          {'on': True, 'eqs': [4, 2, 0, -0.5, -1, 3.5, 4...   \n",
       "genre_electronic 迷幻电音         {'on': True, 'eqs': [5, 6.09, 2.2, 0, -1.6, 1....   \n",
       "genre_electronic+ 动感电音        {'on': True, 'eqs': [4, 4, 3, 1, -1, -2, -1, 2...   \n",
       "genre_folk 民谣音效               {'on': True, 'eqs': [0, 3, 0, -0.8, 1.5, 4.8, ...   \n",
       "genre_hiphop 嘻哈音效             {'on': True, 'eqs': [5.6, 5.09, 2, 0.5, -2, 1....   \n",
       "genre_rock 摇滚经典               {'eqs': [-5.7, 0, 1.5, -3.81, -0.2, -1.1, 0.6,...   \n",
       "scene_church 教堂混响                                                 {'on': False}   \n",
       "scene_concert 音乐厅                                                 {'on': False}   \n",
       "scene_live 演唱会现场              {'on': True, 'eqs': [5.59, 5, 3, 0, -1, 0, 3.0...   \n",
       "scene_live_surr 狂嗨LIVE        {'on': True, 'eqs': [-6, -6.5, -3.7, -9.93, -1...   \n",
       "scene_livehouse LiveHouse现场                                       {'on': False}   \n",
       "spatial_stereo 独享立体声                                              {'on': False}   \n",
       "spatial_stereo_crystal 水晶立体声                                      {'on': False}   \n",
       "spatial_stereo_surr 环绕立体声                                         {'on': False}   \n",
       "spatial_surr 3D环绕                                                 {'on': False}   \n",
       "\n",
       "                                                                   bt  \\\n",
       "custom_bwmrszn 《不完美人生指南》专属音效                            {'on': False}   \n",
       "custom_nineone NINEONE#专属音效                             {'on': False}   \n",
       "custom_xiaowang 毛不易《小王》专属音效                             {'on': False}   \n",
       "eq_bass 极重低音                     {'on': True, 'bass': 3, 'treble': 0}   \n",
       "eq_vocal 清澈人声                                           {'on': False}   \n",
       "genre_acg 纯净ACG                  {'on': True, 'bass': 2, 'treble': 3}   \n",
       "genre_classical 婉约古风             {'on': True, 'bass': 2, 'treble': 2}   \n",
       "genre_electronic 迷幻电音            {'on': True, 'bass': 3, 'treble': 2}   \n",
       "genre_electronic+ 动感电音                                  {'on': False}   \n",
       "genre_folk 民谣音效                  {'on': True, 'bass': 0, 'treble': 1}   \n",
       "genre_hiphop 嘻哈音效                {'on': True, 'bass': 2, 'treble': 2}   \n",
       "genre_rock 摇滚经典                                         {'on': False}   \n",
       "scene_church 教堂混响                                       {'on': False}   \n",
       "scene_concert 音乐厅                                       {'on': False}   \n",
       "scene_live 演唱会现场                 {'on': True, 'bass': 3, 'treble': 2}   \n",
       "scene_live_surr 狂嗨LIVE        {'on': True, 'bass': 12, 'treble': -12}   \n",
       "scene_livehouse LiveHouse现场                             {'on': False}   \n",
       "spatial_stereo 独享立体声                                    {'on': False}   \n",
       "spatial_stereo_crystal 水晶立体声                            {'on': False}   \n",
       "spatial_stereo_surr 环绕立体声                               {'on': False}   \n",
       "spatial_surr 3D环绕                                       {'on': False}   \n",
       "\n",
       "                                                                            rvb  \\\n",
       "custom_bwmrszn 《不完美人生指南》专属音效                                      {'on': False}   \n",
       "custom_nineone NINEONE#专属音效   {'er': {'on': True, 'pattern': 4, 'rsize': 60,...   \n",
       "custom_xiaowang 毛不易《小王》专属音效   {'er': {'on': True, 'pattern': 4, 'rsize': 60,...   \n",
       "eq_bass 极重低音                                                      {'on': False}   \n",
       "eq_vocal 清澈人声                                                     {'on': False}   \n",
       "genre_acg 纯净ACG                                                   {'on': False}   \n",
       "genre_classical 婉约古风                                              {'on': False}   \n",
       "genre_electronic 迷幻电音                                             {'on': False}   \n",
       "genre_electronic+ 动感电音        {'on': True, 'er': {'on': True, 'pattern': 4, ...   \n",
       "genre_folk 民谣音效                                                   {'on': False}   \n",
       "genre_hiphop 嘻哈音效                                                 {'on': False}   \n",
       "genre_rock 摇滚经典                                                   {'on': False}   \n",
       "scene_church 教堂混响             {'on': True, 'er': {'on': True, 'pattern': 0, ...   \n",
       "scene_concert 音乐厅                                                 {'on': False}   \n",
       "scene_live 演唱会现场                                                  {'on': False}   \n",
       "scene_live_surr 狂嗨LIVE        {'on': True, 'er': {'on': True, 'pattern': 24,...   \n",
       "scene_livehouse LiveHouse现场   {'on': True, 'er': {'on': True, 'pattern': 4, ...   \n",
       "spatial_stereo 独享立体声                                              {'on': False}   \n",
       "spatial_stereo_crystal 水晶立体声                                      {'on': False}   \n",
       "spatial_stereo_surr 环绕立体声                                         {'on': False}   \n",
       "spatial_surr 3D环绕                                                 {'on': False}   \n",
       "\n",
       "                                                                             se  \n",
       "custom_bwmrszn 《不完美人生指南》专属音效  {'ambience': 2, 'on': True, 'presence': 0.5, '...  \n",
       "custom_nineone NINEONE#专属音效                                       {'on': False}  \n",
       "custom_xiaowang 毛不易《小王》专属音效                                       {'on': False}  \n",
       "eq_bass 极重低音                                                      {'on': False}  \n",
       "eq_vocal 清澈人声                                                     {'on': False}  \n",
       "genre_acg 纯净ACG                                                   {'on': False}  \n",
       "genre_classical 婉约古风                                              {'on': False}  \n",
       "genre_electronic 迷幻电音                                             {'on': False}  \n",
       "genre_electronic+ 动感电音                                            {'on': False}  \n",
       "genre_folk 民谣音效                                                   {'on': False}  \n",
       "genre_hiphop 嘻哈音效                                                 {'on': False}  \n",
       "genre_rock 摇滚经典               {'ambience': 3, 'on': True, 'presence': 2, 'ss...  \n",
       "scene_church 教堂混响                                                 {'on': False}  \n",
       "scene_concert 音乐厅             {'on': True, 'presence': 0, 'stereoizer': 0, '...  \n",
       "scene_live 演唱会现场                                                  {'on': False}  \n",
       "scene_live_surr 狂嗨LIVE        {'on': True, 'presence': 10, 'stereoizer': 10,...  \n",
       "scene_livehouse LiveHouse现场                                       {'on': False}  \n",
       "spatial_stereo 独享立体声          {'on': True, 'presence': 0, 'stereoizer': 0, '...  \n",
       "spatial_stereo_crystal 水晶立体声  {'on': True, 'presence': 0, 'stereoizer': 0, '...  \n",
       "spatial_stereo_surr 环绕立体声     {'on': True, 'presence': 0, 'stereoizer': 0, '...  \n",
       "spatial_surr 3D环绕             {'on': True, 'presence': 6, 'stereoizer': 4, '...  "
      ]
     },
     "execution_count": 16,
     "metadata": {},
     "output_type": "execute_result"
    }
   ],
   "source": [
    "d = {}\n",
    "target = '../data/raw'\n",
    "\n",
    "for f in os.listdir(target):\n",
    "    p = os.path.join(target, f)\n",
    "    name = translate[f[:-5]] + ' ' + f[:-5]\n",
    "    d[name] = json.load(open(p))\n",
    "\n",
    "df = pd.DataFrame(d).transpose()\n",
    "df.sort_index()"
   ]
  },
  {
   "cell_type": "code",
   "execution_count": 18,
   "metadata": {},
   "outputs": [],
   "source": [
    "df.to_csv('_out.csv')"
   ]
  },
  {
   "cell_type": "code",
   "execution_count": null,
   "metadata": {},
   "outputs": [],
   "source": [
    "d = {}\n",
    "target = '../data/raw'\n",
    "\n",
    "for f in os.listdir(target):\n",
    "    p = os.path.join(target, f)\n",
    "    d1 = json.load(open(p))\n",
    "\n",
    "d"
   ]
  },
  {
   "cell_type": "code",
   "execution_count": null,
   "metadata": {},
   "outputs": [],
   "source": []
  }
 ],
 "metadata": {
  "kernelspec": {
   "display_name": "base",
   "language": "python",
   "name": "python3"
  },
  "language_info": {
   "codemirror_mode": {
    "name": "ipython",
    "version": 3
   },
   "file_extension": ".py",
   "mimetype": "text/x-python",
   "name": "python",
   "nbconvert_exporter": "python",
   "pygments_lexer": "ipython3",
   "version": "3.12.4"
  }
 },
 "nbformat": 4,
 "nbformat_minor": 2
}
